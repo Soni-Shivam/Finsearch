{
 "cells": [
  {
   "cell_type": "code",
   "execution_count": 3,
   "id": "86c5ed71",
   "metadata": {},
   "outputs": [
    {
     "name": "stdout",
     "output_type": "stream",
     "text": [
      "Defaulting to user installation because normal site-packages is not writeable\n",
      "Looking in indexes: https://pypi.org/simple, https://pypi.ngc.nvidia.com\n",
      "Collecting pmdarima\n",
      "  Downloading pmdarima-2.0.4-cp310-cp310-manylinux_2_17_x86_64.manylinux2014_x86_64.manylinux_2_28_x86_64.whl.metadata (7.8 kB)\n",
      "Collecting joblib>=0.11 (from pmdarima)\n",
      "  Downloading joblib-1.5.1-py3-none-any.whl.metadata (5.6 kB)\n",
      "Requirement already satisfied: Cython!=0.29.18,!=0.29.31,>=0.29 in /home/shivam/.local/lib/python3.10/site-packages (from pmdarima) (3.1.2)\n",
      "Requirement already satisfied: numpy>=1.21.2 in /home/shivam/.local/lib/python3.10/site-packages (from pmdarima) (1.24.0)\n",
      "Requirement already satisfied: pandas>=0.19 in /home/shivam/.local/lib/python3.10/site-packages (from pmdarima) (2.1.4)\n",
      "Collecting scikit-learn>=0.22 (from pmdarima)\n",
      "  Downloading scikit_learn-1.7.1-cp310-cp310-manylinux2014_x86_64.manylinux_2_17_x86_64.whl.metadata (11 kB)\n",
      "Requirement already satisfied: scipy>=1.3.2 in /usr/lib/python3/dist-packages (from pmdarima) (1.8.0)\n",
      "Requirement already satisfied: statsmodels>=0.13.2 in /home/shivam/.local/lib/python3.10/site-packages (from pmdarima) (0.14.5)\n",
      "Requirement already satisfied: urllib3 in /usr/lib/python3/dist-packages (from pmdarima) (1.26.5)\n",
      "Requirement already satisfied: setuptools!=50.0.0,>=38.6.0 in /usr/lib/python3/dist-packages (from pmdarima) (59.6.0)\n",
      "Requirement already satisfied: packaging>=17.1 in /home/shivam/.local/lib/python3.10/site-packages (from pmdarima) (25.0)\n",
      "Requirement already satisfied: python-dateutil>=2.8.2 in /home/shivam/.local/lib/python3.10/site-packages (from pandas>=0.19->pmdarima) (2.9.0.post0)\n",
      "Requirement already satisfied: pytz>=2020.1 in /home/shivam/.local/lib/python3.10/site-packages (from pandas>=0.19->pmdarima) (2025.2)\n",
      "Requirement already satisfied: tzdata>=2022.1 in /home/shivam/.local/lib/python3.10/site-packages (from pandas>=0.19->pmdarima) (2025.1)\n",
      "Requirement already satisfied: six>=1.5 in /usr/lib/python3/dist-packages (from python-dateutil>=2.8.2->pandas>=0.19->pmdarima) (1.16.0)\n",
      "Collecting threadpoolctl>=3.1.0 (from scikit-learn>=0.22->pmdarima)\n",
      "  Downloading threadpoolctl-3.6.0-py3-none-any.whl.metadata (13 kB)\n",
      "Requirement already satisfied: patsy>=0.5.6 in /home/shivam/.local/lib/python3.10/site-packages (from statsmodels>=0.13.2->pmdarima) (1.0.1)\n",
      "Downloading pmdarima-2.0.4-cp310-cp310-manylinux_2_17_x86_64.manylinux2014_x86_64.manylinux_2_28_x86_64.whl (2.1 MB)\n",
      "\u001b[2K   \u001b[90m━━━━━━━━━━━━━━━━━━━━━━━━━━━━━━━━━━━━━━━━\u001b[0m \u001b[32m2.1/2.1 MB\u001b[0m \u001b[31m2.9 MB/s\u001b[0m eta \u001b[36m0:00:00\u001b[0mta \u001b[36m0:00:01\u001b[0m\n",
      "\u001b[?25hDownloading joblib-1.5.1-py3-none-any.whl (307 kB)\n",
      "Downloading scikit_learn-1.7.1-cp310-cp310-manylinux2014_x86_64.manylinux_2_17_x86_64.whl (9.7 MB)\n",
      "\u001b[2K   \u001b[90m━━━━━━━━━━━━━━━━━━━━━━━━━━━━━━━━━━━━━━━━\u001b[0m \u001b[32m9.7/9.7 MB\u001b[0m \u001b[31m24.5 MB/s\u001b[0m eta \u001b[36m0:00:00\u001b[0ma \u001b[36m0:00:01\u001b[0m\n",
      "\u001b[?25hDownloading threadpoolctl-3.6.0-py3-none-any.whl (18 kB)\n",
      "Installing collected packages: threadpoolctl, joblib, scikit-learn, pmdarima\n",
      "\u001b[2K   \u001b[90m━━━━━━━━━━━━━━━━━━━━━━━━━━━━━━━━━━━━━━━━\u001b[0m \u001b[32m4/4\u001b[0m [pmdarima]3/4\u001b[0m [pmdarima]arn]\n",
      "\u001b[1A\u001b[2KSuccessfully installed joblib-1.5.1 pmdarima-2.0.4 scikit-learn-1.7.1 threadpoolctl-3.6.0\n",
      "\n",
      "\u001b[1m[\u001b[0m\u001b[34;49mnotice\u001b[0m\u001b[1;39;49m]\u001b[0m\u001b[39;49m A new release of pip is available: \u001b[0m\u001b[31;49m25.1.1\u001b[0m\u001b[39;49m -> \u001b[0m\u001b[32;49m25.2\u001b[0m\n",
      "\u001b[1m[\u001b[0m\u001b[34;49mnotice\u001b[0m\u001b[1;39;49m]\u001b[0m\u001b[39;49m To update, run: \u001b[0m\u001b[32;49mpip install --upgrade pip\u001b[0m\n"
     ]
    }
   ],
   "source": [
    "# To install the library\n",
    "!pip install pmdarima\n",
    "\n"
   ]
  },
  {
   "cell_type": "code",
   "execution_count": null,
   "id": "fe735957",
   "metadata": {},
   "outputs": [],
   "source": [
    "from pmdarima import auto_arima\n"
   ]
  }
 ],
 "metadata": {
  "kernelspec": {
   "display_name": "Python 3",
   "language": "python",
   "name": "python3"
  },
  "language_info": {
   "codemirror_mode": {
    "name": "ipython",
    "version": 3
   },
   "file_extension": ".py",
   "mimetype": "text/x-python",
   "name": "python",
   "nbconvert_exporter": "python",
   "pygments_lexer": "ipython3",
   "version": "3.10.12"
  }
 },
 "nbformat": 4,
 "nbformat_minor": 5
}
